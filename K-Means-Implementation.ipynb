{
 "cells": [
  {
   "cell_type": "code",
   "execution_count": 2,
   "metadata": {},
   "outputs": [],
   "source": [
    "__author__ = \"NehaAVarshney\"\n",
    "__email__ = \"varshney.n@husky.neu.edu\""
   ]
  },
  {
   "cell_type": "markdown",
   "metadata": {},
   "source": [
    "<img src=\"http://cliparts.co/cliparts/8cx/npj/8cxnpjnji.gif\"/>"
   ]
  },
  {
   "cell_type": "markdown",
   "metadata": {},
   "source": [
    "## Table of Contents\n",
    "### The Problem Data Overview\n",
    "- [Why is This Data About?](#problem)\n",
    "\n",
    "### Data Quality Check(EDA -1)\n",
    "- [Simple Inspection of Data](#datacleaning)\n",
    "\n",
    "### Descriptive Statistics(EDA -2)\n",
    "- [Summary Statistics, Turnover Rate, Size of Data](#descriptive_statistics)\n",
    "\n",
    "\n",
    "###  Exploring The Data\n",
    "- [ What is the most common reason for calling 911?](#question_1_a)\n",
    "\n",
    "- [ Display these results graphically](#question_1_b)\n",
    "\n",
    "###  Visualizations and Mislabelling\n",
    "- [ Creating a graph of the 911 calls using the 'Latitude' and 'Longitude'(differentiate call type using colors)](#question_2_a)\n",
    "\n",
    "- [ Are there any Data Points that look mislabeled?](#question_2_b)\n",
    "\n",
    "\n",
    "###  K-Means Algorithm Implementation\n",
    "- [ If we were to use only 'Latitude' and 'Longitude', could we make an intelligent decision as to why a resident dialed 911? (In other words, if we take off the labels - can we still determine which category a 911 call would most likely fall into?) ](#question_3_a)\n",
    "\n",
    "- [ Does the algorithm chosen utilize Euclidean distance? Should we be concerned that 'Latitude' and 'Longitude' are not necessarily Euclidean?](#question_3_b)\n",
    "\n",
    "- [Display the results of your algorithm, along with the associated code ](#question_3_c)\n",
    "\n",
    "- [Display the number of correct categorizations](#question_3_d)\n",
    "\n",
    "- [ What insight can we extract from this analysis?](#question_3_e)\n"
   ]
  },
  {
   "cell_type": "markdown",
   "metadata": {},
   "source": [
    "<a id='problem'></a>\n",
    "# The Problem Data Overview\n",
    "In this data set, the city of Seattle only receives 911 calls for four reasons \n",
    "- _Latte Spills_ i.e a hot latte spills all over your lap \n",
    "- _Beavers Attack_ i.e unsuspecting passersbys \n",
    "- _Seal Attacks_ \n",
    "- _Marshawn Lynch Sightings_ i.e people get very excited and choose to call 911 for some reason \n",
    "- **More Insight is shared in Answers of the Questions Section**\n"
   ]
  },
  {
   "cell_type": "markdown",
   "metadata": {},
   "source": [
    "# Import Packages\n",
    "***"
   ]
  },
  {
   "cell_type": "code",
   "execution_count": 3,
   "metadata": {},
   "outputs": [],
   "source": [
    "# Importing the neccessary modules for data manipulation and visual representation\n",
    "\n",
    "import pandas as pd\n",
    "import numpy as np\n",
    "import matplotlib.pyplot as plt\n",
    "import matplotlib as matplot\n",
    "import seaborn as sns\n",
    "%matplotlib inline\n",
    "\n",
    "# import plotly.plotly as py"
   ]
  },
  {
   "cell_type": "markdown",
   "metadata": {},
   "source": [
    "# Read the Data"
   ]
  },
  {
   "cell_type": "code",
   "execution_count": 4,
   "metadata": {},
   "outputs": [],
   "source": [
    "incident_calls_df= pd.read_excel(\"rev data for test.xlsx\")"
   ]
  },
  {
   "cell_type": "code",
   "execution_count": 5,
   "metadata": {},
   "outputs": [
    {
     "name": "stdout",
     "output_type": "stream",
     "text": [
      "Contains Incident Type with respect to loctations for total incidents : 1514\n"
     ]
    },
    {
     "data": {
      "text/html": [
       "<div>\n",
       "<style scoped>\n",
       "    .dataframe tbody tr th:only-of-type {\n",
       "        vertical-align: middle;\n",
       "    }\n",
       "\n",
       "    .dataframe tbody tr th {\n",
       "        vertical-align: top;\n",
       "    }\n",
       "\n",
       "    .dataframe thead th {\n",
       "        text-align: right;\n",
       "    }\n",
       "</style>\n",
       "<table border=\"1\" class=\"dataframe\">\n",
       "  <thead>\n",
       "    <tr style=\"text-align: right;\">\n",
       "      <th></th>\n",
       "      <th>Type</th>\n",
       "      <th>Latitude</th>\n",
       "      <th>Longitude</th>\n",
       "      <th>Report Location</th>\n",
       "    </tr>\n",
       "  </thead>\n",
       "  <tbody>\n",
       "    <tr>\n",
       "      <th>0</th>\n",
       "      <td>Beaver Accident</td>\n",
       "      <td>47.6992</td>\n",
       "      <td>-122.2167</td>\n",
       "      <td>(47.6291923608656, -122.186728398282)</td>\n",
       "    </tr>\n",
       "    <tr>\n",
       "      <th>1</th>\n",
       "      <td>Beaver Accident</td>\n",
       "      <td>47.6977</td>\n",
       "      <td>-122.2164</td>\n",
       "      <td>(47.5576821104334, -122.156421437319)</td>\n",
       "    </tr>\n",
       "    <tr>\n",
       "      <th>2</th>\n",
       "      <td>Beaver Accident</td>\n",
       "      <td>47.6967</td>\n",
       "      <td>-122.2131</td>\n",
       "      <td>(47.6167258135906, -122.173139389518)</td>\n",
       "    </tr>\n",
       "    <tr>\n",
       "      <th>3</th>\n",
       "      <td>Beaver Accident</td>\n",
       "      <td>47.6971</td>\n",
       "      <td>-122.2178</td>\n",
       "      <td>(47.5370517340417, -122.197755316941)</td>\n",
       "    </tr>\n",
       "    <tr>\n",
       "      <th>4</th>\n",
       "      <td>Beaver Accident</td>\n",
       "      <td>47.6925</td>\n",
       "      <td>-122.2127</td>\n",
       "      <td>(47.6124577512516, -122.14272010056)</td>\n",
       "    </tr>\n",
       "  </tbody>\n",
       "</table>\n",
       "</div>"
      ],
      "text/plain": [
       "              Type  Latitude  Longitude                        Report Location\n",
       "0  Beaver Accident   47.6992  -122.2167  (47.6291923608656, -122.186728398282)\n",
       "1  Beaver Accident   47.6977  -122.2164  (47.5576821104334, -122.156421437319)\n",
       "2  Beaver Accident   47.6967  -122.2131  (47.6167258135906, -122.173139389518)\n",
       "3  Beaver Accident   47.6971  -122.2178  (47.5370517340417, -122.197755316941)\n",
       "4  Beaver Accident   47.6925  -122.2127   (47.6124577512516, -122.14272010056)"
      ]
     },
     "execution_count": 5,
     "metadata": {},
     "output_type": "execute_result"
    }
   ],
   "source": [
    "# Examining the dataset\n",
    "print (\"Contains Incident Type with respect to loctations for total incidents : \" + str(len(incident_calls_df)))\n",
    "incident_calls_df.head()"
   ]
  },
  {
   "cell_type": "markdown",
   "metadata": {},
   "source": [
    "<a id='datacleaning'></a>\n",
    "# Data Quality Check\n",
    "***"
   ]
  },
  {
   "cell_type": "markdown",
   "metadata": {},
   "source": [
    "There are no null values in this data set, but if there is null value: we should impute it. Otherwise, it will impact the result of our analysis."
   ]
  },
  {
   "cell_type": "code",
   "execution_count": 6,
   "metadata": {},
   "outputs": [
    {
     "data": {
      "text/plain": [
       "Type               False\n",
       "Latitude           False\n",
       "Longitude          False\n",
       "Report Location    False\n",
       "dtype: bool"
      ]
     },
     "execution_count": 6,
     "metadata": {},
     "output_type": "execute_result"
    }
   ],
   "source": [
    "# checking to see if there are any missing values in our data set\n",
    "incident_calls_df.isnull().any()"
   ]
  },
  {
   "cell_type": "markdown",
   "metadata": {},
   "source": [
    "This summarize the information of dtype of index and column, MAKING IT FEASIBLE FOR FEATURE ENGINEERING non null values and memory usage."
   ]
  },
  {
   "cell_type": "code",
   "execution_count": 7,
   "metadata": {},
   "outputs": [
    {
     "name": "stdout",
     "output_type": "stream",
     "text": [
      "<class 'pandas.core.frame.DataFrame'>\n",
      "RangeIndex: 1514 entries, 0 to 1513\n",
      "Data columns (total 4 columns):\n",
      "Type               1514 non-null object\n",
      "Latitude           1514 non-null float64\n",
      "Longitude          1514 non-null float64\n",
      "Report Location    1514 non-null object\n",
      "dtypes: float64(2), object(2)\n",
      "memory usage: 47.4+ KB\n"
     ]
    }
   ],
   "source": [
    "incident_calls_df.info()"
   ]
  },
  {
   "cell_type": "markdown",
   "metadata": {},
   "source": [
    "Renaming the features to make the code more informative"
   ]
  },
  {
   "cell_type": "code",
   "execution_count": 8,
   "metadata": {},
   "outputs": [
    {
     "data": {
      "text/html": [
       "<div>\n",
       "<style scoped>\n",
       "    .dataframe tbody tr th:only-of-type {\n",
       "        vertical-align: middle;\n",
       "    }\n",
       "\n",
       "    .dataframe tbody tr th {\n",
       "        vertical-align: top;\n",
       "    }\n",
       "\n",
       "    .dataframe thead th {\n",
       "        text-align: right;\n",
       "    }\n",
       "</style>\n",
       "<table border=\"1\" class=\"dataframe\">\n",
       "  <thead>\n",
       "    <tr style=\"text-align: right;\">\n",
       "      <th></th>\n",
       "      <th>Incident_Type</th>\n",
       "      <th>Incident_Latitude</th>\n",
       "      <th>Incident_Longitude</th>\n",
       "      <th>Report_Station_Location</th>\n",
       "    </tr>\n",
       "  </thead>\n",
       "  <tbody>\n",
       "    <tr>\n",
       "      <th>0</th>\n",
       "      <td>Beaver Accident</td>\n",
       "      <td>47.6992</td>\n",
       "      <td>-122.2167</td>\n",
       "      <td>(47.6291923608656, -122.186728398282)</td>\n",
       "    </tr>\n",
       "    <tr>\n",
       "      <th>1</th>\n",
       "      <td>Beaver Accident</td>\n",
       "      <td>47.6977</td>\n",
       "      <td>-122.2164</td>\n",
       "      <td>(47.5576821104334, -122.156421437319)</td>\n",
       "    </tr>\n",
       "    <tr>\n",
       "      <th>2</th>\n",
       "      <td>Beaver Accident</td>\n",
       "      <td>47.6967</td>\n",
       "      <td>-122.2131</td>\n",
       "      <td>(47.6167258135906, -122.173139389518)</td>\n",
       "    </tr>\n",
       "  </tbody>\n",
       "</table>\n",
       "</div>"
      ],
      "text/plain": [
       "     Incident_Type  Incident_Latitude  Incident_Longitude  \\\n",
       "0  Beaver Accident            47.6992           -122.2167   \n",
       "1  Beaver Accident            47.6977           -122.2164   \n",
       "2  Beaver Accident            47.6967           -122.2131   \n",
       "\n",
       "                 Report_Station_Location  \n",
       "0  (47.6291923608656, -122.186728398282)  \n",
       "1  (47.5576821104334, -122.156421437319)  \n",
       "2  (47.6167258135906, -122.173139389518)  "
      ]
     },
     "execution_count": 8,
     "metadata": {},
     "output_type": "execute_result"
    }
   ],
   "source": [
    "incident_calls_df = incident_calls_df.rename(columns={'Type': 'Incident_Type',\n",
    "                                    'Latitude':'Incident_Latitude',\n",
    "                                    'Longitude':'Incident_Longitude',\n",
    "                                     'Report Location': 'Report_Station_Location'\n",
    "                                   })\n",
    "\n",
    "incident_calls_df.head(3)"
   ]
  },
  {
   "cell_type": "markdown",
   "metadata": {},
   "source": [
    "## Feature Engineering"
   ]
  },
  {
   "cell_type": "markdown",
   "metadata": {},
   "source": [
    "Adding a new feature:\n",
    "- [Aggregating the latitude and longitude as Incident_Location]\n"
   ]
  },
  {
   "cell_type": "code",
   "execution_count": 9,
   "metadata": {},
   "outputs": [],
   "source": [
    "incident_calls_df[\"Incident_Location\"] = \"(\"+incident_calls_df[\"Incident_Latitude\"].map(str)+\",\"+incident_calls_df[\"Incident_Longitude\"].map(str)+\")\"\n"
   ]
  },
  {
   "cell_type": "code",
   "execution_count": 10,
   "metadata": {},
   "outputs": [],
   "source": [
    "incident_calls_df['frequency'] = incident_calls_df['Incident_Location'].map(incident_calls_df['Incident_Location'].value_counts())"
   ]
  },
  {
   "cell_type": "code",
   "execution_count": 11,
   "metadata": {},
   "outputs": [],
   "source": [
    "incident_calls_df.to_excel(\"incident_original.xlsx\")"
   ]
  },
  {
   "cell_type": "code",
   "execution_count": 12,
   "metadata": {},
   "outputs": [
    {
     "data": {
      "text/html": [
       "<div>\n",
       "<style scoped>\n",
       "    .dataframe tbody tr th:only-of-type {\n",
       "        vertical-align: middle;\n",
       "    }\n",
       "\n",
       "    .dataframe tbody tr th {\n",
       "        vertical-align: top;\n",
       "    }\n",
       "\n",
       "    .dataframe thead th {\n",
       "        text-align: right;\n",
       "    }\n",
       "</style>\n",
       "<table border=\"1\" class=\"dataframe\">\n",
       "  <thead>\n",
       "    <tr style=\"text-align: right;\">\n",
       "      <th></th>\n",
       "      <th>Incident_Type</th>\n",
       "      <th>Incident_Latitude</th>\n",
       "      <th>Incident_Longitude</th>\n",
       "      <th>Report_Station_Location</th>\n",
       "      <th>Incident_Location</th>\n",
       "      <th>frequency</th>\n",
       "    </tr>\n",
       "  </thead>\n",
       "  <tbody>\n",
       "    <tr>\n",
       "      <th>1205</th>\n",
       "      <td>Marshawn Lynch Sighting</td>\n",
       "      <td>47.5199</td>\n",
       "      <td>-122.2684</td>\n",
       "      <td>(47.519853, -122.268364)</td>\n",
       "      <td>(47.5199,-122.2684)</td>\n",
       "      <td>9</td>\n",
       "    </tr>\n",
       "    <tr>\n",
       "      <th>1202</th>\n",
       "      <td>Marshawn Lynch Sighting</td>\n",
       "      <td>47.5199</td>\n",
       "      <td>-122.2684</td>\n",
       "      <td>(47.519853, -122.268364)</td>\n",
       "      <td>(47.5199,-122.2684)</td>\n",
       "      <td>9</td>\n",
       "    </tr>\n",
       "    <tr>\n",
       "      <th>1208</th>\n",
       "      <td>Marshawn Lynch Sighting</td>\n",
       "      <td>47.5199</td>\n",
       "      <td>-122.2684</td>\n",
       "      <td>(47.519853, -122.268364)</td>\n",
       "      <td>(47.5199,-122.2684)</td>\n",
       "      <td>9</td>\n",
       "    </tr>\n",
       "  </tbody>\n",
       "</table>\n",
       "</div>"
      ],
      "text/plain": [
       "                Incident_Type  Incident_Latitude  Incident_Longitude  \\\n",
       "1205  Marshawn Lynch Sighting            47.5199           -122.2684   \n",
       "1202  Marshawn Lynch Sighting            47.5199           -122.2684   \n",
       "1208  Marshawn Lynch Sighting            47.5199           -122.2684   \n",
       "\n",
       "       Report_Station_Location    Incident_Location  frequency  \n",
       "1205  (47.519853, -122.268364)  (47.5199,-122.2684)          9  \n",
       "1202  (47.519853, -122.268364)  (47.5199,-122.2684)          9  \n",
       "1208  (47.519853, -122.268364)  (47.5199,-122.2684)          9  "
      ]
     },
     "execution_count": 12,
     "metadata": {},
     "output_type": "execute_result"
    }
   ],
   "source": [
    "incident_calls_df.sort_values(by=['frequency'], ascending=False).head(3)"
   ]
  },
  {
   "cell_type": "markdown",
   "metadata": {},
   "source": [
    "<a id='descriptive_statistics'></a>\n",
    "# Descriptive Statistics\n",
    "***"
   ]
  },
  {
   "cell_type": "markdown",
   "metadata": {},
   "source": [
    "## Getting the Description of all the features in our Dataset"
   ]
  },
  {
   "cell_type": "markdown",
   "metadata": {},
   "source": [
    "Summarizing the descriptive statistics of the Features. \n",
    "\n",
    "1) ***Incident_Type*** :\n",
    "\n",
    "As provided in the problem statement, there are 4 unique types of reasons to call 911 and the heighest occuring number is 508 for a type of reason\n",
    "\n",
    "2) ***Incident_Longitude and Incident_Latitude***:\n",
    "\n",
    "I understood the dispersion of the data points around the mean, and got to know that the Longitude and Latitude values are not not much spread out (as Std is ~0.5 and ~0.09)\n",
    "\n",
    "3) ***Incident_Location and Report_Station_Location***:\n",
    "\n",
    "I understood that, there are some repetitive locations i.e locations from where call have been made also, the report locations\n",
    "\n",
    "**_Curious Step_** : to check if the reason and report station for all the calls from the repetitive location is same or not, same for the report station location.\n",
    "\n",
    "**_Reason to this thought is_** : If the calls are for the same reason, we can definitely segment the location with reason type.\n",
    "- [Samples for Incident Location, where multiple calls have been made from](#incident_location)"
   ]
  },
  {
   "cell_type": "code",
   "execution_count": 13,
   "metadata": {},
   "outputs": [],
   "source": [
    "df_column_headers= list(incident_calls_df)"
   ]
  },
  {
   "cell_type": "code",
   "execution_count": 14,
   "metadata": {},
   "outputs": [
    {
     "name": "stdout",
     "output_type": "stream",
     "text": [
      "Description for Feature:   Incident_Type\n",
      "count                1514\n",
      "unique                  4\n",
      "top       Beaver Accident\n",
      "freq                  508\n",
      "Name: Incident_Type, dtype: object\n",
      "\n",
      "\n",
      "Description for Feature:   Incident_Latitude\n",
      "count    1514.000000\n",
      "mean       47.618480\n",
      "std         0.051916\n",
      "min        47.500200\n",
      "25%        47.586008\n",
      "50%        47.608487\n",
      "75%        47.672450\n",
      "max        47.732000\n",
      "Name: Incident_Latitude, dtype: float64\n",
      "\n",
      "\n",
      "Description for Feature:   Incident_Longitude\n",
      "count    1514.000000\n",
      "mean     -122.284465\n",
      "std         0.089676\n",
      "min      -122.469940\n",
      "25%      -122.355300\n",
      "50%      -122.301850\n",
      "75%      -122.185650\n",
      "max      -122.140100\n",
      "Name: Incident_Longitude, dtype: float64\n",
      "\n",
      "\n",
      "Description for Feature:   Report_Station_Location\n",
      "count                         1514\n",
      "unique                        1468\n",
      "top       (47.519853, -122.268364)\n",
      "freq                             9\n",
      "Name: Report_Station_Location, dtype: object\n",
      "\n",
      "\n",
      "Description for Feature:   Incident_Location\n",
      "count                    1514\n",
      "unique                   1478\n",
      "top       (47.5199,-122.2684)\n",
      "freq                        9\n",
      "Name: Incident_Location, dtype: object\n",
      "\n",
      "\n",
      "Description for Feature:   frequency\n",
      "count    1514.000000\n",
      "mean        1.143989\n",
      "std         0.955248\n",
      "min         1.000000\n",
      "25%         1.000000\n",
      "50%         1.000000\n",
      "75%         1.000000\n",
      "max         9.000000\n",
      "Name: frequency, dtype: float64\n",
      "\n",
      "\n"
     ]
    }
   ],
   "source": [
    "for column1 in df_column_headers:\n",
    "    print(\"Description for Feature:  \",column1)\n",
    "    print(incident_calls_df[str(column1)].describe())\n",
    "    print(\"\\n\")"
   ]
  },
  {
   "cell_type": "markdown",
   "metadata": {},
   "source": [
    "## Info() Analysis:\n",
    "Checking for Inconsistencies in data "
   ]
  },
  {
   "cell_type": "code",
   "execution_count": 15,
   "metadata": {},
   "outputs": [
    {
     "data": {
      "text/plain": [
       "Incident_Type               object\n",
       "Incident_Latitude          float64\n",
       "Incident_Longitude         float64\n",
       "Report_Station_Location     object\n",
       "Incident_Location           object\n",
       "frequency                    int64\n",
       "dtype: object"
      ]
     },
     "execution_count": 15,
     "metadata": {},
     "output_type": "execute_result"
    }
   ],
   "source": [
    "# Checking the type of our features. \n",
    "incident_calls_df.dtypes"
   ]
  },
  {
   "cell_type": "code",
   "execution_count": 16,
   "metadata": {},
   "outputs": [
    {
     "data": {
      "text/plain": [
       "(1514, 6)"
      ]
     },
     "execution_count": 16,
     "metadata": {},
     "output_type": "execute_result"
    }
   ],
   "source": [
    "#How many incidents are there in the dataset\n",
    "incident_calls_df.shape"
   ]
  },
  {
   "cell_type": "markdown",
   "metadata": {},
   "source": [
    "\n",
    "## Exploring The Data\n"
   ]
  },
  {
   "cell_type": "markdown",
   "metadata": {},
   "source": [
    "<a id='question_1_a'></a>\n",
    "***What is the most common reason for calling 911?***"
   ]
  },
  {
   "cell_type": "markdown",
   "metadata": {},
   "source": [
    "Steps Performed:\n",
    "- Calculated the 911 call count for each reason\n",
    "- Calculated the rate for each reason i.e (number of samples for each type / total number of samples) \n",
    "- i.e What is rate of calling 911 for each reason?"
   ]
  },
  {
   "cell_type": "markdown",
   "metadata": {},
   "source": [
    "Here, Taking the incident type with maximum number of 911 calls as the most common reason. \n",
    "\n",
    "***Answer: _Beaver Spills_ is the most common reason to call 911, with total calls of 508 i.e ~34% of the 911 calls were for Beaver Accident."
   ]
  },
  {
   "cell_type": "code",
   "execution_count": 17,
   "metadata": {},
   "outputs": [
    {
     "name": "stdout",
     "output_type": "stream",
     "text": [
      "Printing the count of reasons, i.e total reports under each reason\n",
      "\n",
      "\n",
      "Beaver Accident            508\n",
      "Latte Spills               416\n",
      "Marshawn Lynch Sighting    324\n",
      "Seal Attack                266\n",
      "Name: Incident_Type, dtype: int64\n",
      "\n",
      "\n",
      "Normalizing the value count as rate, to get the clear and relative understanding\n",
      "\n",
      "\n",
      "Beaver Accident            0.335535\n",
      "Latte Spills               0.274769\n",
      "Marshawn Lynch Sighting    0.214003\n",
      "Seal Attack                0.175694\n",
      "Name: Incident_Type, dtype: float64\n"
     ]
    }
   ],
   "source": [
    "total_incidents= len(incident_calls_df)\n",
    "incident_count = incident_calls_df.Incident_Type.value_counts()\n",
    "incident_rate = incident_calls_df.Incident_Type.value_counts()/total_incidents\n",
    "\n",
    "print(\"Printing the count of reasons, i.e total reports under each reason\")\n",
    "print(\"\\n\")\n",
    "print(incident_count)\n",
    "print(\"\\n\")\n",
    "print(\"Normalizing the value count as rate, to get the clear and relative understanding\")\n",
    "print(\"\\n\")\n",
    "print(incident_rate)"
   ]
  },
  {
   "cell_type": "markdown",
   "metadata": {},
   "source": []
  },
  {
   "cell_type": "markdown",
   "metadata": {},
   "source": [
    "<a id='question_1_b'></a>\n",
    "***Display these results graphically***"
   ]
  },
  {
   "cell_type": "markdown",
   "metadata": {},
   "source": [
    "**_Answer_** I have chosen countplot from seaborn library to display the count of each observations in _categorical bin (Incident Types)_ using bars\n",
    "\n",
    "_Interpretation from Graph_ : **Breaver Accident** has the highest count of 911 calls. Therefore, being the most common reason for 911 call."
   ]
  },
  {
   "cell_type": "code",
   "execution_count": 18,
   "metadata": {},
   "outputs": [
    {
     "data": {
      "text/plain": [
       "<function matplotlib.pyplot.show(*args, **kw)>"
      ]
     },
     "execution_count": 18,
     "metadata": {},
     "output_type": "execute_result"
    },
    {
     "data": {
      "image/png": "[encoded data removed]",
      "text/plain": [
       "<Figure size 720x576 with 1 Axes>"
      ]
     },
     "metadata": {
      "needs_background": "light"
     },
     "output_type": "display_data"
    }
   ],
   "source": [
    "# resizing the plot size\n",
    "plt.figure(figsize=(10,8))\n",
    "# Plotting the countplot from seaborn library\n",
    "ax=sns.countplot(x=\"Incident_Type\", data=incident_calls_df, hue=\"Incident_Type\")\n",
    "\n",
    "\n",
    "# Setting the title, increasing font size\n",
    "ax.axes.set_title(\"Count of the 911 calls\",fontsize=20)\n",
    "# Setting the x and y label i.e name along axis, increasing font size\n",
    "ax.set_xlabel(\"Reason to call 911\",fontsize=15)\n",
    "ax.set_ylabel(\"Total 911 calls for the reason type\",fontsize=15)\n",
    "# Increasing the fontsize of values of each label\n",
    "ax.tick_params(labelsize=12)\n",
    "\n",
    "plt.show"
   ]
  },
  {
   "cell_type": "markdown",
   "metadata": {},
   "source": [
    "\n",
    "# Visualizations and Mislabelling\n",
    "***"
   ]
  },
  {
   "cell_type": "markdown",
   "metadata": {},
   "source": [
    "<a id='question_2_a'></a>\n",
    "**creating a graph of the 911 calls using the 'Latitude' and 'Longitude' (graph type is up to you) (differentiate call type using colors)**"
   ]
  },
  {
   "cell_type": "markdown",
   "metadata": {},
   "source": [
    "**_Answer ** : Created Scatter Plot of seaborn library to represent the reason of call for each Latitude and Longitude.\n",
    "\n",
    "Scatter plots show how much one variable is affected by another i.e here, the relation of reason of the calls to latitiude and longitude of the incident.\n",
    "\n",
    "_This Graph represents that most of the Incident Types are *SEGMENTED* on the Latitude and Longitude, i.e interpreted by the same color data points plotted together for respective latitude and longitude cordinates_"
   ]
  },
  {
   "cell_type": "code",
   "execution_count": 19,
   "metadata": {},
   "outputs": [
    {
     "data": {
      "text/plain": [
       "<function matplotlib.pyplot.show(*args, **kw)>"
      ]
     },
     "execution_count": 19,
     "metadata": {},
     "output_type": "execute_result"
    },
    {
     "data": {
      "image/png": "[encoded data removed]",
      "text/plain": [
       "<Figure size 1152x576 with 1 Axes>"
      ]
     },
     "metadata": {
      "needs_background": "light"
     },
     "output_type": "display_data"
    }
   ],
   "source": [
    "import matplotlib.pyplot as plt\n",
    "import matplotlib as matplot\n",
    "import seaborn as sns\n",
    "%matplotlib inline\n",
    "\n",
    "cmap=plt.cm.rainbow\n",
    "# resizing the plot size\n",
    "plt.figure(figsize=(16,8))\n",
    "\n",
    "norm = matplot.colors.BoundaryNorm(np.arange(0,10,1), cmap.N)\n",
    "\n",
    "ax = sns.scatterplot(x=\"Incident_Latitude\", y=\"Incident_Longitude\", \n",
    "                     hue=\"Incident_Type\",style=\"Incident_Type\", s= 150,\n",
    "                     norm = norm, data=incident_calls_df, edgecolor='none')\n",
    "\n",
    "ax.set_title(\"911 Calls (Latitude & Longitude) differentiated by call type\", fontsize =18)\n",
    "ax.set_xlabel(\"Incident Latitude\", fontsize = 15)\n",
    "ax.set_ylabel(\"Incident Longitude\",fontsize=15)\n",
    "\n",
    "# Increasing the fontsize of values of each label\n",
    "ax.tick_params(labelsize=14)\n",
    "\n",
    "plt.show\n",
    "\n"
   ]
  },
  {
   "cell_type": "markdown",
   "metadata": {},
   "source": [
    "- [This is analysed by the k means clustering algorithm](#question_3_d)"
   ]
  },
  {
   "cell_type": "markdown",
   "metadata": {},
   "source": [
    "<a id='question_2_b'></a>\n",
    "- ***Are there any Data Points that look mislabeled?***"
   ]
  },
  {
   "cell_type": "markdown",
   "metadata": {},
   "source": [
    "**_Answer_** : Yes, potentially there is some mislabeled data as interepreted by the graph above.\n",
    "\n",
    "Summary of the above graph:\n",
    "\n",
    "- There are some Seal Attack data points in the cluster of Beaver Accident, they are potentially mislabeled\n",
    "- There are few Beaver Accident data pointsin the segment of Seal Attack\n",
    "- There is a Big Overlap between  Latte Spills and Marshawn Lynch Sighting\n",
    "\n",
    "_If there is more information about the data, I can do further interpretations regarding these data points_"
   ]
  },
  {
   "cell_type": "markdown",
   "metadata": {},
   "source": [
    "<a id='question_3'></a>\n",
    "# K-Means Impelmentation"
   ]
  },
  {
   "cell_type": "markdown",
   "metadata": {},
   "source": [
    "<a id='question_3_a'></a>\n",
    "\n",
    "**If we were to use only 'Latitude' and 'Longitude', could we make an intelligent decision as to why a resident dialed 911? (In other words, if we take off the labels - can we still determine which category a 911 call would most likely fall into?)**"
   ]
  },
  {
   "cell_type": "markdown",
   "metadata": {},
   "source": [
    "Yes, if we were to use only 'Latitude' and 'Longitude', we could make an intelligent decision as to why a resident dialed 911. \n",
    "\n",
    "The segmentation of call type as seen in the question 2.A, clearly indicates that latitude and longitude can be used to to decide on the reason of the call.\n",
    "\n",
    "For example, I am a 911 responder, if I know that calls from location A are due to beaver accident. \n",
    "Now, I got a new call which is from the next building of location A. It will be very probable that this call is for beaver accident too.\n",
    "\n",
    "Also, in the analysis it is seen that:\n",
    "In case when, multiple calls are made from one location, they have reported the same reason. \n",
    "Therefore, if we take off the labels - can we still determine which category a 911 call would most likely fall into.\n"
   ]
  },
  {
   "cell_type": "markdown",
   "metadata": {},
   "source": [
    "**Algorithm** : **_K-Means Clustering_**\n",
    "\n",
    "**Reason being, The Variance(spread of information) of a reason of the call is mostly retained in a cluster, i.e in a segment** \n",
    "\n",
    "**Description** : **_It can be used as algorithm for Summarization of data, dividing a group of data points into clusters, where each point in the cluster is similar to each other and dissimilar to data points from other clusters._**\n",
    "\n",
    "**Reason To Choosing It** : \n",
    "- We can detect the area with multiple calls as a proxy of incidents\n",
    "- We can infer the Hot Spots of the Incident (Reason)\n",
    "- This will be a good sign as we can infer the probable location of the specific attack\n",
    "- Will get to know the overall Dense Area between all the reasons of calls\n",
    "- Also, in the below analysis, I found out that there are locations from where reason of same type were reported many times"
   ]
  },
  {
   "cell_type": "markdown",
   "metadata": {},
   "source": [
    "<a id='incident_location'></a>\n",
    "#### Analysing the reason, in case of multiple calls from same location i.e location as a proxy of attack(reason)\n",
    "\n",
    "**Note:** The below functions are just the sample of the idea of how this can be achieved. _They can be simplified further!!_"
   ]
  },
  {
   "cell_type": "markdown",
   "metadata": {},
   "source": [
    "Summarizing the below part of analysis:\n",
    "\n",
    "It is seen in the obtained samples(via code snipped below) that:\n",
    "- There are 14 locations from where, multiple calls were made to report\n",
    "- But, the many calls from the same location were placed to report the same reason each time, as seen below.\n",
    "- Therefore, we can apply segementation(clustering) to intelligently retrieve the reason of call from seeing the location\n",
    "- To quantifiably convert this analysis into result, I will implement K-means clustering"
   ]
  },
  {
   "cell_type": "code",
   "execution_count": 20,
   "metadata": {},
   "outputs": [],
   "source": [
    "# Object Oriented Code Structure, increasing modularity of the code\n",
    "\n",
    "#Function to get the list of locations with more than one call\n",
    "def get_list_incident_location(list_incident):\n",
    "    len_incident=len(list_incident)\n",
    "    list_more_reports=[]\n",
    "   \n",
    "    for j in range(0,len_incident-4):\n",
    "        if(j%2!=0):\n",
    "            list_more_reports.append(list_incident[j])\n",
    "    return list_more_reports\n",
    "\n",
    "# Function to print the samples of the above locations.\n",
    "#Reason? To check the integrity of calls made from one location\n",
    "\n",
    "# df['frequency'] = df['county'].map(df['county'].value_counts())\n",
    "\n",
    "def print_samples_incident(l1):\n",
    "    for j in l1:\n",
    "        print(\"\\n\")\n",
    "        print(\"The value for reason(incident) location\", j)\n",
    "        print(\"\\n\")\n",
    "        print(incident_calls_df.loc[incident_calls_df['Incident_Location'] == j])\n",
    "\n",
    "        print(\"---------------------------------------------------\")\n",
    "\n"
   ]
  },
  {
   "cell_type": "code",
   "execution_count": 21,
   "metadata": {},
   "outputs": [
    {
     "name": "stdout",
     "output_type": "stream",
     "text": [
      "Number of locations with multiple calls is:  14\n"
     ]
    }
   ],
   "source": [
    "# getting the count for each incident location \n",
    "df_Incident=incident_calls_df.groupby('Incident_Location').Incident_Location.count()\n",
    "\n",
    "#Getting the list of the incident locations, where the count is > 1i.e have been repeated\n",
    "# the output was the list of list, so working with data modelling\n",
    "\n",
    "\n",
    "\n",
    "list1 = [df_Incident[df_Incident>1]][0]\n",
    "\n",
    "\n",
    "list1= str(list1).split()\n",
    "# print(list1)\n",
    "\n",
    "list_incident_location= get_list_incident_location(list1)\n",
    "\n",
    "print(\"Number of locations with multiple calls is: \", len(list_incident_location))"
   ]
  },
  {
   "cell_type": "code",
   "execution_count": 22,
   "metadata": {},
   "outputs": [
    {
     "name": "stdout",
     "output_type": "stream",
     "text": [
      "\n",
      "\n",
      "The value for reason(incident) location (47.5199,-122.2684)\n",
      "\n",
      "\n",
      "                Incident_Type  Incident_Latitude  Incident_Longitude  \\\n",
      "1200  Marshawn Lynch Sighting            47.5199           -122.2684   \n",
      "1201  Marshawn Lynch Sighting            47.5199           -122.2684   \n",
      "1202  Marshawn Lynch Sighting            47.5199           -122.2684   \n",
      "1203  Marshawn Lynch Sighting            47.5199           -122.2684   \n",
      "1204  Marshawn Lynch Sighting            47.5199           -122.2684   \n",
      "1205  Marshawn Lynch Sighting            47.5199           -122.2684   \n",
      "1206  Marshawn Lynch Sighting            47.5199           -122.2684   \n",
      "1207  Marshawn Lynch Sighting            47.5199           -122.2684   \n",
      "1208  Marshawn Lynch Sighting            47.5199           -122.2684   \n",
      "\n",
      "       Report_Station_Location    Incident_Location  frequency  \n",
      "1200  (47.519853, -122.268364)  (47.5199,-122.2684)          9  \n",
      "1201  (47.519853, -122.268364)  (47.5199,-122.2684)          9  \n",
      "1202  (47.519853, -122.268364)  (47.5199,-122.2684)          9  \n",
      "1203  (47.519853, -122.268364)  (47.5199,-122.2684)          9  \n",
      "1204  (47.519853, -122.268364)  (47.5199,-122.2684)          9  \n",
      "1205  (47.519853, -122.268364)  (47.5199,-122.2684)          9  \n",
      "1206  (47.519853, -122.268364)  (47.5199,-122.2684)          9  \n",
      "1207  (47.519853, -122.268364)  (47.5199,-122.2684)          9  \n",
      "1208  (47.519853, -122.268364)  (47.5199,-122.2684)          9  \n",
      "---------------------------------------------------\n",
      "\n",
      "\n",
      "The value for reason(incident) location (47.5233,-122.27)\n",
      "\n",
      "\n",
      "                Incident_Type  Incident_Latitude  Incident_Longitude  \\\n",
      "1352  Marshawn Lynch Sighting            47.5233             -122.27   \n",
      "1363  Marshawn Lynch Sighting            47.5233             -122.27   \n",
      "\n",
      "       Report_Station_Location  Incident_Location  frequency  \n",
      "1352  (47.523307, -122.269986)  (47.5233,-122.27)          2  \n",
      "1363  (47.523307, -122.269986)  (47.5233,-122.27)          2  \n",
      "---------------------------------------------------\n",
      "\n",
      "\n",
      "The value for reason(incident) location (47.5389,-122.2822)\n",
      "\n",
      "\n",
      "                Incident_Type  Incident_Latitude  Incident_Longitude  \\\n",
      "1269  Marshawn Lynch Sighting            47.5389           -122.2822   \n",
      "1341  Marshawn Lynch Sighting            47.5389           -122.2822   \n",
      "\n",
      "       Report_Station_Location    Incident_Location  frequency  \n",
      "1269  (47.538884, -122.282179)  (47.5389,-122.2822)          2  \n",
      "1341  (47.538884, -122.282179)  (47.5389,-122.2822)          2  \n",
      "---------------------------------------------------\n",
      "\n",
      "\n",
      "The value for reason(incident) location (47.5857,-122.3342)\n",
      "\n",
      "\n",
      "                Incident_Type  Incident_Latitude  Incident_Longitude  \\\n",
      "1210  Marshawn Lynch Sighting            47.5857           -122.3342   \n",
      "1264  Marshawn Lynch Sighting            47.5857           -122.3342   \n",
      "1355  Marshawn Lynch Sighting            47.5857           -122.3342   \n",
      "\n",
      "       Report_Station_Location    Incident_Location  frequency  \n",
      "1210  (47.585705, -122.334198)  (47.5857,-122.3342)          3  \n",
      "1264  (47.585733, -122.334198)  (47.5857,-122.3342)          3  \n",
      "1355  (47.585747, -122.334198)  (47.5857,-122.3342)          3  \n",
      "---------------------------------------------------\n",
      "\n",
      "\n",
      "The value for reason(incident) location (47.5972,-122.1521)\n",
      "\n",
      "\n",
      "       Incident_Type  Incident_Latitude  Incident_Longitude  \\\n",
      "446  Beaver Accident            47.5972           -122.1521   \n",
      "496  Beaver Accident            47.5972           -122.1521   \n",
      "\n",
      "                   Report_Station_Location    Incident_Location  frequency  \n",
      "446   (47.5971754244305, -122.15207690789)  (47.5972,-122.1521)          2  \n",
      "496  (47.5972017146939, -122.152079011347)  (47.5972,-122.1521)          2  \n",
      "---------------------------------------------------\n",
      "\n",
      "\n",
      "The value for reason(incident) location (47.6002,-122.3305)\n",
      "\n",
      "\n",
      "                Incident_Type  Incident_Latitude  Incident_Longitude  \\\n",
      "1254  Marshawn Lynch Sighting            47.6002           -122.3305   \n",
      "1301  Marshawn Lynch Sighting            47.6002           -122.3305   \n",
      "1367  Marshawn Lynch Sighting            47.6002           -122.3305   \n",
      "\n",
      "       Report_Station_Location    Incident_Location  frequency  \n",
      "1254  (47.600194, -122.330541)  (47.6002,-122.3305)          3  \n",
      "1301  (47.600194, -122.330541)  (47.6002,-122.3305)          3  \n",
      "1367  (47.600194, -122.330541)  (47.6002,-122.3305)          3  \n",
      "---------------------------------------------------\n",
      "\n",
      "\n",
      "The value for reason(incident) location (47.607,-122.2894)\n",
      "\n",
      "\n",
      "                Incident_Type  Incident_Latitude  Incident_Longitude  \\\n",
      "1192  Marshawn Lynch Sighting             47.607           -122.2894   \n",
      "1193  Marshawn Lynch Sighting             47.607           -122.2894   \n",
      "1194  Marshawn Lynch Sighting             47.607           -122.2894   \n",
      "1195  Marshawn Lynch Sighting             47.607           -122.2894   \n",
      "1196  Marshawn Lynch Sighting             47.607           -122.2894   \n",
      "1197  Marshawn Lynch Sighting             47.607           -122.2894   \n",
      "1198  Marshawn Lynch Sighting             47.607           -122.2894   \n",
      "1199  Marshawn Lynch Sighting             47.607           -122.2894   \n",
      "\n",
      "      Report_Station_Location   Incident_Location  frequency  \n",
      "1192  (47.607026, -122.28944)  (47.607,-122.2894)          8  \n",
      "1193  (47.607026, -122.28944)  (47.607,-122.2894)          8  \n",
      "1194  (47.607026, -122.28944)  (47.607,-122.2894)          8  \n",
      "1195  (47.607026, -122.28944)  (47.607,-122.2894)          8  \n",
      "1196  (47.607026, -122.28944)  (47.607,-122.2894)          8  \n",
      "1197  (47.607026, -122.28944)  (47.607,-122.2894)          8  \n",
      "1198  (47.607026, -122.28944)  (47.607,-122.2894)          8  \n",
      "1199  (47.607026, -122.28944)  (47.607,-122.2894)          8  \n",
      "---------------------------------------------------\n",
      "\n",
      "\n",
      "The value for reason(incident) location (47.6098,-122.3378)\n",
      "\n",
      "\n",
      "                Incident_Type  Incident_Latitude  Incident_Longitude  \\\n",
      "1182  Marshawn Lynch Sighting            47.6098           -122.3378   \n",
      "1305  Marshawn Lynch Sighting            47.6098           -122.3378   \n",
      "\n",
      "      Report_Station_Location    Incident_Location  frequency  \n",
      "1182  (47.60975, -122.337793)  (47.6098,-122.3378)          2  \n",
      "1305  (47.60975, -122.337793)  (47.6098,-122.3378)          2  \n",
      "---------------------------------------------------\n",
      "\n",
      "\n",
      "The value for reason(incident) location (47.6107,-122.3387)\n",
      "\n",
      "\n",
      "                Incident_Type  Incident_Latitude  Incident_Longitude  \\\n",
      "1289  Marshawn Lynch Sighting            47.6107           -122.3387   \n",
      "1295  Marshawn Lynch Sighting            47.6107           -122.3387   \n",
      "\n",
      "       Report_Station_Location    Incident_Location  frequency  \n",
      "1289  (47.610743, -122.338702)  (47.6107,-122.3387)          2  \n",
      "1295  (47.610743, -122.338702)  (47.6107,-122.3387)          2  \n",
      "---------------------------------------------------\n",
      "\n",
      "\n",
      "The value for reason(incident) location (47.6112,-122.3376)\n",
      "\n",
      "\n",
      "                Incident_Type  Incident_Latitude  Incident_Longitude  \\\n",
      "1231  Marshawn Lynch Sighting            47.6112           -122.3376   \n",
      "1306  Marshawn Lynch Sighting            47.6112           -122.3376   \n",
      "1330  Marshawn Lynch Sighting            47.6112           -122.3376   \n",
      "\n",
      "       Report_Station_Location    Incident_Location  frequency  \n",
      "1231  (47.611207, -122.337592)  (47.6112,-122.3376)          3  \n",
      "1306  (47.611207, -122.337592)  (47.6112,-122.3376)          3  \n",
      "1330  (47.611207, -122.337592)  (47.6112,-122.3376)          3  \n",
      "---------------------------------------------------\n",
      "\n",
      "\n",
      "The value for reason(incident) location (47.6134,-122.3465)\n",
      "\n",
      "\n",
      "                Incident_Type  Incident_Latitude  Incident_Longitude  \\\n",
      "1227  Marshawn Lynch Sighting            47.6134           -122.3465   \n",
      "1319  Marshawn Lynch Sighting            47.6134           -122.3465   \n",
      "\n",
      "       Report_Station_Location    Incident_Location  frequency  \n",
      "1227  (47.613375, -122.346513)  (47.6134,-122.3465)          2  \n",
      "1319  (47.613375, -122.346513)  (47.6134,-122.3465)          2  \n",
      "---------------------------------------------------\n",
      "\n",
      "\n",
      "The value for reason(incident) location (47.617,-122.3234)\n",
      "\n",
      "\n",
      "                Incident_Type  Incident_Latitude  Incident_Longitude  \\\n",
      "1184  Marshawn Lynch Sighting             47.617           -122.3234   \n",
      "1185  Marshawn Lynch Sighting             47.617           -122.3234   \n",
      "1186  Marshawn Lynch Sighting             47.617           -122.3234   \n",
      "1187  Marshawn Lynch Sighting             47.617           -122.3234   \n",
      "1188  Marshawn Lynch Sighting             47.617           -122.3234   \n",
      "1189  Marshawn Lynch Sighting             47.617           -122.3234   \n",
      "1190  Marshawn Lynch Sighting             47.617           -122.3234   \n",
      "1191  Marshawn Lynch Sighting             47.617           -122.3234   \n",
      "\n",
      "       Report_Station_Location   Incident_Location  frequency  \n",
      "1184  (47.616984, -122.323442)  (47.617,-122.3234)          8  \n",
      "1185  (47.616984, -122.323442)  (47.617,-122.3234)          8  \n",
      "1186  (47.616984, -122.323442)  (47.617,-122.3234)          8  \n",
      "1187  (47.616984, -122.323442)  (47.617,-122.3234)          8  \n",
      "1188  (47.616984, -122.323442)  (47.617,-122.3234)          8  \n",
      "1189  (47.616984, -122.323442)  (47.617,-122.3234)          8  \n",
      "1190  (47.616984, -122.323442)  (47.617,-122.3234)          8  \n",
      "1191  (47.616984, -122.323442)  (47.617,-122.3234)          8  \n",
      "---------------------------------------------------\n",
      "\n",
      "\n",
      "The value for reason(incident) location (47.7068,-122.3232)\n",
      "\n",
      "\n",
      "                Incident_Type  Incident_Latitude  Incident_Longitude  \\\n",
      "1259  Marshawn Lynch Sighting            47.7068           -122.3232   \n",
      "1307  Marshawn Lynch Sighting            47.7068           -122.3232   \n",
      "\n",
      "       Report_Station_Location    Incident_Location  frequency  \n",
      "1259  (47.706831, -122.323224)  (47.7068,-122.3232)          2  \n",
      "1307  (47.706795, -122.323223)  (47.7068,-122.3232)          2  \n",
      "---------------------------------------------------\n",
      "\n",
      "\n",
      "The value for reason(incident) location (47.7269,-122.3477)\n",
      "\n",
      "\n",
      "                Incident_Type  Incident_Latitude  Incident_Longitude  \\\n",
      "1318  Marshawn Lynch Sighting            47.7269           -122.3477   \n",
      "1340  Marshawn Lynch Sighting            47.7269           -122.3477   \n",
      "\n",
      "       Report_Station_Location    Incident_Location  frequency  \n",
      "1318  (47.726934, -122.347715)  (47.7269,-122.3477)          2  \n",
      "1340  (47.726934, -122.347715)  (47.7269,-122.3477)          2  \n",
      "---------------------------------------------------\n"
     ]
    }
   ],
   "source": [
    "print_samples_incident(list_incident_location)"
   ]
  },
  {
   "cell_type": "markdown",
   "metadata": {},
   "source": [
    "<a id='question_3_b'></a>\n",
    "**Does the algorithm chosen utilize Euclidean distance? Should we be concerned that 'Latitude' and 'Longitude' are not necessarily Euclidean?**"
   ]
  },
  {
   "cell_type": "markdown",
   "metadata": {},
   "source": [
    "**Answer**: Yes the algorithm chosen i.e K-MEANS utilizes the Euclidean Distance. \n",
    "\n",
    "_Why Distance matters in K-Means Algorithm_: Distance measures how similar two elements are, thus influencing the shape of the clusters.\n",
    "\n",
    "k-means generates clusters based on the Euclidean distance between points — meaning the straight-line distance between two pins in the map.\n",
    "\n",
    "But as we know, the Earth isn’t flat so this approximation will affect the clusters being generated\n"
   ]
  },
  {
   "cell_type": "markdown",
   "metadata": {},
   "source": [
    "Therefore, **Yes we should be concerned that 'Latitude' and 'Longitude' are not Euclidean.**\n",
    "\n",
    "Instead, we should be using Geographical (spatial) distance i.e the distance measured along the surface of the earth i.e calculating lengths of the shortest curve between two points along the surface of the Earth.\n",
    "\n",
    "Hierarchical clustering, PAM, CLARA, and DBSCAN are the popular examples of using spatial distances."
   ]
  },
  {
   "cell_type": "markdown",
   "metadata": {},
   "source": [
    "<a id='question_3_c'></a>\n",
    "\n",
    " **displaing the results of algorithm, along with the associated code**"
   ]
  },
  {
   "cell_type": "markdown",
   "metadata": {},
   "source": [
    "##### Import Necessary Libraries"
   ]
  },
  {
   "cell_type": "code",
   "execution_count": 23,
   "metadata": {},
   "outputs": [],
   "source": [
    "import pylab as pl\n",
    "from sklearn.cluster import KMeans\n",
    "from sklearn.decomposition import PCA"
   ]
  },
  {
   "cell_type": "markdown",
   "metadata": {},
   "source": [
    "##### Number of Clusters?\n",
    "The number of clusters, explains “most” of the variance in the data, and choose it as the optimum value of k i.e clusters\n",
    "\n",
    "Here, _Taking cluster size as 4, as there are 4 types of reasons._ \n",
    "\n",
    "In the situation when number of types or segments are not provided, we apply the elblow method to calculate the optimum number of clusteres i.e the Optimum value of K."
   ]
  },
  {
   "cell_type": "code",
   "execution_count": 24,
   "metadata": {},
   "outputs": [],
   "source": [
    "# from sklearn.cluster import KMeans # Importing KMeans\n",
    "kmeans_1 = KMeans(n_clusters=4)\n",
    "# Using fit_predict to cluster the dataset\n",
    "df_coord = incident_calls_df[['Incident_Longitude','Incident_Latitude','Incident_Type']]\n",
    "# predictions = kmeans_1.fit_predict(X)   "
   ]
  },
  {
   "cell_type": "code",
   "execution_count": 25,
   "metadata": {},
   "outputs": [
    {
     "data": {
      "text/html": [
       "<div>\n",
       "<style scoped>\n",
       "    .dataframe tbody tr th:only-of-type {\n",
       "        vertical-align: middle;\n",
       "    }\n",
       "\n",
       "    .dataframe tbody tr th {\n",
       "        vertical-align: top;\n",
       "    }\n",
       "\n",
       "    .dataframe thead th {\n",
       "        text-align: right;\n",
       "    }\n",
       "</style>\n",
       "<table border=\"1\" class=\"dataframe\">\n",
       "  <thead>\n",
       "    <tr style=\"text-align: right;\">\n",
       "      <th></th>\n",
       "      <th>Incident_Longitude</th>\n",
       "      <th>Incident_Latitude</th>\n",
       "      <th>Incident_Type</th>\n",
       "    </tr>\n",
       "  </thead>\n",
       "  <tbody>\n",
       "    <tr>\n",
       "      <th>0</th>\n",
       "      <td>-122.2167</td>\n",
       "      <td>47.6992</td>\n",
       "      <td>Beaver Accident</td>\n",
       "    </tr>\n",
       "    <tr>\n",
       "      <th>1</th>\n",
       "      <td>-122.2164</td>\n",
       "      <td>47.6977</td>\n",
       "      <td>Beaver Accident</td>\n",
       "    </tr>\n",
       "    <tr>\n",
       "      <th>2</th>\n",
       "      <td>-122.2131</td>\n",
       "      <td>47.6967</td>\n",
       "      <td>Beaver Accident</td>\n",
       "    </tr>\n",
       "    <tr>\n",
       "      <th>3</th>\n",
       "      <td>-122.2178</td>\n",
       "      <td>47.6971</td>\n",
       "      <td>Beaver Accident</td>\n",
       "    </tr>\n",
       "    <tr>\n",
       "      <th>4</th>\n",
       "      <td>-122.2127</td>\n",
       "      <td>47.6925</td>\n",
       "      <td>Beaver Accident</td>\n",
       "    </tr>\n",
       "  </tbody>\n",
       "</table>\n",
       "</div>"
      ],
      "text/plain": [
       "   Incident_Longitude  Incident_Latitude    Incident_Type\n",
       "0           -122.2167            47.6992  Beaver Accident\n",
       "1           -122.2164            47.6977  Beaver Accident\n",
       "2           -122.2131            47.6967  Beaver Accident\n",
       "3           -122.2178            47.6971  Beaver Accident\n",
       "4           -122.2127            47.6925  Beaver Accident"
      ]
     },
     "execution_count": 25,
     "metadata": {},
     "output_type": "execute_result"
    }
   ],
   "source": [
    "df_coord.head()"
   ]
  },
  {
   "cell_type": "code",
   "execution_count": 26,
   "metadata": {},
   "outputs": [],
   "source": [
    "from sklearn.cluster import KMeans # Importing KMeans\n",
    "# Creating an instance of KMeans with 4 clusters\n",
    "kmeans_1 = KMeans(n_clusters=4)\n",
    "# Using fit_predict to cluster the dataset\n",
    "X = df_coord[['Incident_Longitude','Incident_Latitude']].values\n",
    "predictions = kmeans_1.fit_predict(X)"
   ]
  },
  {
   "cell_type": "code",
   "execution_count": 27,
   "metadata": {},
   "outputs": [],
   "source": [
    "clustered = pd.concat([df_coord.reset_index(), \n",
    "                       pd.DataFrame({'Cluster':predictions})], \n",
    "                      axis=1)"
   ]
  },
  {
   "cell_type": "code",
   "execution_count": 28,
   "metadata": {},
   "outputs": [],
   "source": [
    "clustered.drop('index', axis=1, inplace=True)"
   ]
  },
  {
   "cell_type": "code",
   "execution_count": 29,
   "metadata": {},
   "outputs": [],
   "source": [
    "conditions = [\n",
    "    clustered['Cluster'] == 0, \n",
    "    clustered['Cluster'] == 1,\n",
    "    clustered['Cluster'] == 2,\n",
    "    clustered['Cluster'] == 3,\n",
    "    ]\n",
    "choices = ['Beaver Accident','Latte Spills', 'Marshawn Lynch Sighting', 'Seal Attack' ]\n",
    "clustered['Reason Type'] = np.select(conditions, choices, default='black')"
   ]
  },
  {
   "cell_type": "code",
   "execution_count": 30,
   "metadata": {},
   "outputs": [
    {
     "data": {
      "text/html": [
       "<div>\n",
       "<style scoped>\n",
       "    .dataframe tbody tr th:only-of-type {\n",
       "        vertical-align: middle;\n",
       "    }\n",
       "\n",
       "    .dataframe tbody tr th {\n",
       "        vertical-align: top;\n",
       "    }\n",
       "\n",
       "    .dataframe thead th {\n",
       "        text-align: right;\n",
       "    }\n",
       "</style>\n",
       "<table border=\"1\" class=\"dataframe\">\n",
       "  <thead>\n",
       "    <tr style=\"text-align: right;\">\n",
       "      <th></th>\n",
       "      <th>Incident_Longitude</th>\n",
       "      <th>Incident_Latitude</th>\n",
       "      <th>Incident_Type</th>\n",
       "      <th>Cluster</th>\n",
       "      <th>Reason Type</th>\n",
       "    </tr>\n",
       "  </thead>\n",
       "  <tbody>\n",
       "    <tr>\n",
       "      <th>0</th>\n",
       "      <td>-122.2167</td>\n",
       "      <td>47.6992</td>\n",
       "      <td>Beaver Accident</td>\n",
       "      <td>0</td>\n",
       "      <td>Beaver Accident</td>\n",
       "    </tr>\n",
       "    <tr>\n",
       "      <th>657</th>\n",
       "      <td>-122.3288</td>\n",
       "      <td>47.6551</td>\n",
       "      <td>Latte Spills</td>\n",
       "      <td>0</td>\n",
       "      <td>Beaver Accident</td>\n",
       "    </tr>\n",
       "  </tbody>\n",
       "</table>\n",
       "</div>"
      ],
      "text/plain": [
       "     Incident_Longitude  Incident_Latitude    Incident_Type  Cluster  \\\n",
       "0             -122.2167            47.6992  Beaver Accident        0   \n",
       "657           -122.3288            47.6551     Latte Spills        0   \n",
       "\n",
       "         Reason Type  \n",
       "0    Beaver Accident  \n",
       "657  Beaver Accident  "
      ]
     },
     "execution_count": 30,
     "metadata": {},
     "output_type": "execute_result"
    }
   ],
   "source": [
    "clustered.sort_values(by=['Cluster']).head(2)"
   ]
  },
  {
   "cell_type": "code",
   "execution_count": 31,
   "metadata": {},
   "outputs": [
    {
     "data": {
      "text/html": [
       "<div>\n",
       "<style scoped>\n",
       "    .dataframe tbody tr th:only-of-type {\n",
       "        vertical-align: middle;\n",
       "    }\n",
       "\n",
       "    .dataframe tbody tr th {\n",
       "        vertical-align: top;\n",
       "    }\n",
       "\n",
       "    .dataframe thead th {\n",
       "        text-align: right;\n",
       "    }\n",
       "</style>\n",
       "<table border=\"1\" class=\"dataframe\">\n",
       "  <thead>\n",
       "    <tr style=\"text-align: right;\">\n",
       "      <th></th>\n",
       "      <th>Incident_Longitude</th>\n",
       "      <th>Incident_Latitude</th>\n",
       "      <th>Incident_Type</th>\n",
       "      <th>Cluster</th>\n",
       "      <th>Reason Type</th>\n",
       "    </tr>\n",
       "  </thead>\n",
       "  <tbody>\n",
       "    <tr>\n",
       "      <th>11</th>\n",
       "      <td>-122.240000</td>\n",
       "      <td>47.636600</td>\n",
       "      <td>Beaver Accident</td>\n",
       "      <td>2</td>\n",
       "      <td>Marshawn Lynch Sighting</td>\n",
       "    </tr>\n",
       "    <tr>\n",
       "      <th>975</th>\n",
       "      <td>-122.309264</td>\n",
       "      <td>47.592783</td>\n",
       "      <td>Marshawn Lynch Sighting</td>\n",
       "      <td>2</td>\n",
       "      <td>Marshawn Lynch Sighting</td>\n",
       "    </tr>\n",
       "  </tbody>\n",
       "</table>\n",
       "</div>"
      ],
      "text/plain": [
       "     Incident_Longitude  Incident_Latitude            Incident_Type  Cluster  \\\n",
       "11          -122.240000          47.636600          Beaver Accident        2   \n",
       "975         -122.309264          47.592783  Marshawn Lynch Sighting        2   \n",
       "\n",
       "                 Reason Type  \n",
       "11   Marshawn Lynch Sighting  \n",
       "975  Marshawn Lynch Sighting  "
      ]
     },
     "execution_count": 31,
     "metadata": {},
     "output_type": "execute_result"
    }
   ],
   "source": [
    "clustered[clustered['Cluster']==2].head(2)"
   ]
  },
  {
   "cell_type": "code",
   "execution_count": 32,
   "metadata": {},
   "outputs": [
    {
     "name": "stdout",
     "output_type": "stream",
     "text": [
      "2.4637602937849774\n"
     ]
    }
   ],
   "source": [
    "print(kmeans_1.inertia_)\n",
    "# measures how spread out clusters are: lower the better"
   ]
  },
  {
   "cell_type": "code",
   "execution_count": 33,
   "metadata": {},
   "outputs": [
    {
     "data": {
      "image/png": "[encoded data removed]",
      "text/plain": [
       "<Figure size 1152x576 with 2 Axes>"
      ]
     },
     "metadata": {
      "needs_background": "light"
     },
     "output_type": "display_data"
    }
   ],
   "source": [
    "fig = plt.figure(figsize=(16,8))\n",
    "cmap=plt.cm.rainbow\n",
    "norm = matplot.colors.BoundaryNorm(np.arange(0,10,1), cmap.N)\n",
    "plt.scatter(clustered['Incident_Longitude'], clustered['Incident_Latitude'], c=clustered['Cluster'],\n",
    "            cmap=cmap, norm=norm, s=150, edgecolor='none')\n",
    "plt.colorbar(ticks=np.linspace(0,9,10))\n",
    "centers = kmeans_1.cluster_centers_\n",
    "plt.scatter(centers[:, 0], centers[:, 1], c='black', s=100, alpha=1);\n",
    "#plt.xlim(2.28, 2.375)\n",
    "#plt.ylim(48.84, 48.89)\n",
    "plt.xlabel('Latitude', fontsize=14)\n",
    "plt.ylabel('Longitude', fontsize=14)\n",
    "plt.title('k-means clustering results (n_clusters=4)', fontsize=14)\n",
    "plt.grid()\n",
    "plt.show()\n"
   ]
  },
  {
   "cell_type": "markdown",
   "metadata": {},
   "source": [
    "<a id='question_3_d'></a>\n",
    "\n",
    "**the number of correct categorizations**"
   ]
  },
  {
   "cell_type": "markdown",
   "metadata": {},
   "source": [
    "- [Answer 3.D](#question_3_d_answer)"
   ]
  },
  {
   "cell_type": "code",
   "execution_count": 34,
   "metadata": {},
   "outputs": [
    {
     "name": "stdout",
     "output_type": "stream",
     "text": [
      "Beaver Accident\n",
      "1    499\n",
      "0      6\n",
      "3      2\n",
      "2      1\n",
      "Name: Cluster, dtype: int64\n",
      "Latte Spills\n",
      "0    416\n",
      "Name: Cluster, dtype: int64\n",
      "Marshawn Lynch Sighting\n",
      "2    258\n",
      "0     47\n",
      "3     19\n",
      "Name: Cluster, dtype: int64\n",
      "Seal Attack\n",
      "3    240\n",
      "2     18\n",
      "0      5\n",
      "1      3\n",
      "Name: Cluster, dtype: int64\n"
     ]
    }
   ],
   "source": [
    "list_category = [\"Beaver Accident\",\"Latte Spills\",\"Marshawn Lynch Sighting\",\"Seal Attack\"]\n",
    "\n",
    "for l in list_category:\n",
    "    print(l)\n",
    "    b = clustered[clustered[\"Incident_Type\"]==l]\n",
    "    b_cluster = b[\"Cluster\"]\n",
    "    print(b_cluster.value_counts())"
   ]
  },
  {
   "cell_type": "markdown",
   "metadata": {},
   "source": [
    "Wrongly classified values i.e categorised in a different cluster\n",
    "- [Here is the analysis](#question_3_e)"
   ]
  },
  {
   "cell_type": "code",
   "execution_count": 35,
   "metadata": {},
   "outputs": [],
   "source": [
    "wrong = 6+2+1+0+47+19+18+5+3"
   ]
  },
  {
   "cell_type": "code",
   "execution_count": 36,
   "metadata": {},
   "outputs": [
    {
     "data": {
      "text/plain": [
       "101"
      ]
     },
     "execution_count": 36,
     "metadata": {},
     "output_type": "execute_result"
    }
   ],
   "source": [
    "wrong"
   ]
  },
  {
   "cell_type": "code",
   "execution_count": 37,
   "metadata": {},
   "outputs": [],
   "source": [
    "correct = len(clustered) - wrong"
   ]
  },
  {
   "cell_type": "code",
   "execution_count": 38,
   "metadata": {},
   "outputs": [
    {
     "name": "stdout",
     "output_type": "stream",
     "text": [
      "The Total Correctly categorised values are  1413\n"
     ]
    }
   ],
   "source": [
    "print(\"The Total Correctly categorised values are \",correct)"
   ]
  },
  {
   "cell_type": "markdown",
   "metadata": {},
   "source": [
    "<a id='question_3_d_answer'></a>\n",
    "**3.D.Answer**: **The rightly classified values are: 1413**"
   ]
  },
  {
   "cell_type": "markdown",
   "metadata": {},
   "source": [
    "How did I analyse this, let's take an example for the Seal Attack"
   ]
  },
  {
   "cell_type": "code",
   "execution_count": 39,
   "metadata": {},
   "outputs": [],
   "source": [
    "ct_seal= pd.crosstab(clustered[\"Incident_Type\"]==\"Seal Attack\", clustered[\"Cluster\"])"
   ]
  },
  {
   "cell_type": "code",
   "execution_count": 40,
   "metadata": {},
   "outputs": [
    {
     "data": {
      "text/html": [
       "<div>\n",
       "<style scoped>\n",
       "    .dataframe tbody tr th:only-of-type {\n",
       "        vertical-align: middle;\n",
       "    }\n",
       "\n",
       "    .dataframe tbody tr th {\n",
       "        vertical-align: top;\n",
       "    }\n",
       "\n",
       "    .dataframe thead th {\n",
       "        text-align: right;\n",
       "    }\n",
       "</style>\n",
       "<table border=\"1\" class=\"dataframe\">\n",
       "  <thead>\n",
       "    <tr style=\"text-align: right;\">\n",
       "      <th>Cluster</th>\n",
       "      <th>0</th>\n",
       "      <th>1</th>\n",
       "      <th>2</th>\n",
       "      <th>3</th>\n",
       "    </tr>\n",
       "    <tr>\n",
       "      <th>Incident_Type</th>\n",
       "      <th></th>\n",
       "      <th></th>\n",
       "      <th></th>\n",
       "      <th></th>\n",
       "    </tr>\n",
       "  </thead>\n",
       "  <tbody>\n",
       "    <tr>\n",
       "      <th>False</th>\n",
       "      <td>469</td>\n",
       "      <td>499</td>\n",
       "      <td>259</td>\n",
       "      <td>21</td>\n",
       "    </tr>\n",
       "    <tr>\n",
       "      <th>True</th>\n",
       "      <td>5</td>\n",
       "      <td>3</td>\n",
       "      <td>18</td>\n",
       "      <td>240</td>\n",
       "    </tr>\n",
       "  </tbody>\n",
       "</table>\n",
       "</div>"
      ],
      "text/plain": [
       "Cluster          0    1    2    3\n",
       "Incident_Type                    \n",
       "False          469  499  259   21\n",
       "True             5    3   18  240"
      ]
     },
     "execution_count": 40,
     "metadata": {},
     "output_type": "execute_result"
    }
   ],
   "source": [
    "ct_seal"
   ]
  },
  {
   "cell_type": "markdown",
   "metadata": {},
   "source": [
    "The row with true represents the distribution of the Seal Attack value in the clusters\n",
    "Incident Type False, means it is not a value for the Seal Attack"
   ]
  },
  {
   "cell_type": "markdown",
   "metadata": {},
   "source": [
    "- It says that, 240 Seal Attack values are in cluster 3, 26 values are wrongly classified of seal attack in clusters 0,1,2\n"
   ]
  },
  {
   "cell_type": "markdown",
   "metadata": {},
   "source": [
    "<a id='question_3_e'></a>\n",
    "**What insight can we extract from this analysis?**"
   ]
  },
  {
   "cell_type": "markdown",
   "metadata": {},
   "source": [
    "- Latte Spills is the cluster with least spread out distance\n",
    "\n",
    "- Marshawn Lynch Sighting is potentially more spread out cluster (15% values in Latte and 5% as Seal Attack)\n",
    "\n",
    "- This is also supported by the, scatter plot in 2.A, there is a overlap between red and green i.e Latte Spills and Marshawn Lynch Sighting\n",
    "\n",
    "- To infer with the problem statement, in come cases people called out to 911 due to latte spills but maybe did not close the reason for some reason.Or this maybe a error in dataset. Cross Checking with business person is the best idea here\n",
    "\n",
    "- Seal Attacks are also some times reported as the Marshawn Lynch Sighting"
   ]
  },
  {
   "cell_type": "markdown",
   "metadata": {},
   "source": [
    "_***Thank You!***_\n",
    "\n",
    "_Neha A Varshney_"
   ]
  }
 ],
 "metadata": {
  "kernelspec": {
   "display_name": "Python 3",
   "language": "python",
   "name": "python3"
  },
  "language_info": {
   "codemirror_mode": {
    "name": "ipython",
    "version": 3
   },
   "file_extension": ".py",
   "mimetype": "text/x-python",
   "name": "python",
   "nbconvert_exporter": "python",
   "pygments_lexer": "ipython3",
   "version": "3.7.2"
  }
 },
 "nbformat": 4,
 "nbformat_minor": 2
}
